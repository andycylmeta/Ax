{
 "cells": [
  {
   "cell_type": "markdown",
   "id": "8d9f781a",
   "metadata": {
    "collapsed": true,
    "customInput": null,
    "jupyter": {
     "outputs_hidden": true
    },
    "originalKey": "d3a0136e-94fa-477c-a839-20e5b7f1cdd2",
    "papermill": {
     "duration": 0.003942,
     "end_time": "2024-10-22T06:25:23.593228",
     "exception": false,
     "start_time": "2024-10-22T06:25:23.589286",
     "status": "completed"
    },
    "showInput": false,
    "tags": []
   },
   "source": [
    "# Sparsity Exploration Bayesian Optimization (SEBO) Ax API \n",
    "\n",
    "This tutorial introduces the Sparsity Exploration Bayesian Optimization (SEBO) method and demonstrates how to utilize it using the Ax API. SEBO is designed to enhance Bayesian Optimization (BO) by taking the interpretability and simplicity of configurations into consideration. In essence, SEBO incorporates sparsity, modeled as the $L_0$ norm, as an additional objective in BO. By employing multi-objective optimization techniques such as Expected Hyper-Volume Improvement, SEBO enables the joint optimization of objectives while simultaneously incorporating feature-level sparsity. This allows users to efficiently explore different trade-offs between objectives and sparsity.\n",
    "\n",
    "\n",
    "For a more detailed understanding of the SEBO algorithm, please refer to the following publication:\n",
    "\n",
    "[1] [S. Liu, Q. Feng, D. Eriksson, B. Letham and E. Bakshy. Sparse Bayesian Optimization. International Conference on Artificial Intelligence and Statistics, 2023.](https://proceedings.mlr.press/v206/liu23b/liu23b.pdf)\n",
    "\n",
    "By following this tutorial, you will learn how to leverage the SEBO method through the Ax API, empowering you to effectively balance objectives and sparsity in your optimization tasks. Let's get started!"
   ]
  },
  {
   "cell_type": "code",
   "execution_count": 1,
   "id": "e5f0231c",
   "metadata": {
    "customOutput": null,
    "execution": {
     "iopub.execute_input": "2024-10-22T06:25:23.602034Z",
     "iopub.status.busy": "2024-10-22T06:25:23.601436Z",
     "iopub.status.idle": "2024-10-22T06:25:26.468820Z",
     "shell.execute_reply": "2024-10-22T06:25:26.468163Z"
    },
    "executionStartTime": 1689117385062,
    "executionStopTime": 1689117389874,
    "jupyter": {
     "outputs_hidden": false
    },
    "originalKey": "cea96143-019a-41c1-a388-545f48992db9",
    "papermill": {
     "duration": 2.873516,
     "end_time": "2024-10-22T06:25:26.470398",
     "exception": false,
     "start_time": "2024-10-22T06:25:23.596882",
     "status": "completed"
    },
    "requestMsgId": "c2c22a5d-aee0-4a1e-98d9-b360aa1851ff",
    "showInput": true,
    "tags": []
   },
   "outputs": [],
   "source": [
    "import math\n",
    "import os\n",
    "import warnings\n",
    "\n",
    "import matplotlib\n",
    "import matplotlib.pyplot as plt\n",
    "\n",
    "import numpy as np\n",
    "import torch\n",
    "from ax import Data, Experiment, ParameterType, RangeParameter, SearchSpace\n",
    "from ax.core.objective import Objective\n",
    "from ax.core.optimization_config import OptimizationConfig\n",
    "from ax.metrics.noisy_function import NoisyFunctionMetric\n",
    "from ax.modelbridge.generation_strategy import GenerationStep, GenerationStrategy\n",
    "from ax.modelbridge.registry import Models\n",
    "from ax.models.torch.botorch_modular.sebo import SEBOAcquisition\n",
    "from ax.models.torch.botorch_modular.surrogate import Surrogate\n",
    "from ax.runners.synthetic import SyntheticRunner\n",
    "from ax.service.ax_client import AxClient, ObjectiveProperties\n",
    "from ax.utils.common.typeutils import checked_cast\n",
    "from botorch.acquisition.multi_objective import qNoisyExpectedHypervolumeImprovement\n",
    "from botorch.models import SaasFullyBayesianSingleTaskGP, SingleTaskGP"
   ]
  },
  {
   "cell_type": "code",
   "execution_count": 2,
   "id": "f7ca47a6",
   "metadata": {
    "execution": {
     "iopub.execute_input": "2024-10-22T06:25:26.479223Z",
     "iopub.status.busy": "2024-10-22T06:25:26.478726Z",
     "iopub.status.idle": "2024-10-22T06:25:26.489009Z",
     "shell.execute_reply": "2024-10-22T06:25:26.488513Z"
    },
    "papermill": {
     "duration": 0.015934,
     "end_time": "2024-10-22T06:25:26.490229",
     "exception": false,
     "start_time": "2024-10-22T06:25:26.474295",
     "status": "completed"
    },
    "tags": []
   },
   "outputs": [],
   "source": [
    "%matplotlib inline\n",
    "matplotlib.rcParams.update({\"font.size\": 16})\n",
    "\n",
    "warnings.filterwarnings('ignore')\n",
    "SMOKE_TEST = os.environ.get(\"SMOKE_TEST\")\n",
    "\n",
    "torch.manual_seed(12345)  # To always get the same Sobol points\n",
    "tkwargs = {\n",
    "    \"dtype\": torch.double,\n",
    "    \"device\": torch.device(\"cuda\" if torch.cuda.is_available() else \"cpu\"),\n",
    "}"
   ]
  },
  {
   "cell_type": "markdown",
   "id": "71aa62a3",
   "metadata": {
    "customInput": null,
    "originalKey": "7f07af01-ad58-4cfb-beca-f624310d278d",
    "papermill": {
     "duration": 0.003416,
     "end_time": "2024-10-22T06:25:26.497108",
     "exception": false,
     "start_time": "2024-10-22T06:25:26.493692",
     "status": "completed"
    },
    "showInput": false,
    "tags": []
   },
   "source": [
    "# Demo of using Developer API"
   ]
  },
  {
   "cell_type": "markdown",
   "id": "fdbde3df",
   "metadata": {
    "customInput": null,
    "originalKey": "c8a27a2f-1120-4894-9302-48bfde402268",
    "papermill": {
     "duration": 0.003365,
     "end_time": "2024-10-22T06:25:26.503876",
     "exception": false,
     "start_time": "2024-10-22T06:25:26.500511",
     "status": "completed"
    },
    "showInput": false,
    "tags": []
   },
   "source": [
    "## Problem Setup \n",
    "\n",
    "In this simple experiment we use the Branin function embedded in a 10-dimensional space. Additional resources:\n",
    "- To set up a custom metric for your problem, refer to the dedicated section of the Developer API tutorial: https://ax.dev/tutorials/gpei_hartmann_developer.html#8.-Defining-custom-metrics.\n",
    "- To avoid needing to setup up custom metrics by Ax Service API: https://ax.dev/tutorials/gpei_hartmann_service.html."
   ]
  },
  {
   "cell_type": "code",
   "execution_count": 3,
   "id": "4ad8cf57",
   "metadata": {
    "customInput": null,
    "execution": {
     "iopub.execute_input": "2024-10-22T06:25:26.511829Z",
     "iopub.status.busy": "2024-10-22T06:25:26.511412Z",
     "iopub.status.idle": "2024-10-22T06:25:26.515605Z",
     "shell.execute_reply": "2024-10-22T06:25:26.514965Z"
    },
    "executionStartTime": 1689117390036,
    "executionStopTime": 1689117390038,
    "jupyter": {
     "outputs_hidden": false
    },
    "originalKey": "e91fc838-9f47-44f1-99ac-4477df208566",
    "papermill": {
     "duration": 0.009578,
     "end_time": "2024-10-22T06:25:26.516918",
     "exception": false,
     "start_time": "2024-10-22T06:25:26.507340",
     "status": "completed"
    },
    "requestMsgId": "1591e6b0-fa9b-4b9f-be72-683dccbe923a",
    "showInput": true,
    "tags": []
   },
   "outputs": [],
   "source": [
    "aug_dim = 8 \n",
    "\n",
    "# evaluation function \n",
    "def branin_augment(x_vec, augment_dim):\n",
    "    assert len(x_vec) == augment_dim\n",
    "    x1, x2 = (\n",
    "        15 * x_vec[0] - 5,\n",
    "        15 * x_vec[1],\n",
    "    )  # Only dimensions 0 and augment_dim-1 affect the value of the function\n",
    "    t1 = x2 - 5.1 / (4 * math.pi**2) * x1**2 + 5 / math.pi * x1 - 6\n",
    "    t2 = 10 * (1 - 1 / (8 * math.pi)) * np.cos(x1)\n",
    "    return t1**2 + t2 + 10"
   ]
  },
  {
   "cell_type": "code",
   "execution_count": 4,
   "id": "a66f7696",
   "metadata": {
    "customInput": null,
    "customOutput": null,
    "execution": {
     "iopub.execute_input": "2024-10-22T06:25:26.524997Z",
     "iopub.status.busy": "2024-10-22T06:25:26.524507Z",
     "iopub.status.idle": "2024-10-22T06:25:26.528850Z",
     "shell.execute_reply": "2024-10-22T06:25:26.528332Z"
    },
    "executionStartTime": 1689117390518,
    "executionStopTime": 1689117390540,
    "jupyter": {
     "outputs_hidden": false
    },
    "originalKey": "850830c6-509f-4087-bce8-da0be4fd48ef",
    "papermill": {
     "duration": 0.009617,
     "end_time": "2024-10-22T06:25:26.530032",
     "exception": false,
     "start_time": "2024-10-22T06:25:26.520415",
     "status": "completed"
    },
    "requestMsgId": "56726053-205d-4d7e-b1b5-1a76324188ee",
    "showInput": true,
    "tags": []
   },
   "outputs": [],
   "source": [
    "class AugBraninMetric(NoisyFunctionMetric):\n",
    "    def f(self, x: np.ndarray) -> float:\n",
    "        return checked_cast(float, branin_augment(x_vec=x, augment_dim=aug_dim))\n",
    "\n",
    "\n",
    "# Create search space in Ax \n",
    "search_space = SearchSpace(\n",
    "    parameters=[\n",
    "        RangeParameter(\n",
    "            name=f\"x{i}\",\n",
    "            parameter_type=ParameterType.FLOAT, \n",
    "            lower=0.0, upper=1.0\n",
    "        )\n",
    "        for i in range(aug_dim)\n",
    "    ]\n",
    ")"
   ]
  },
  {
   "cell_type": "code",
   "execution_count": 5,
   "id": "08daa080",
   "metadata": {
    "customInput": null,
    "execution": {
     "iopub.execute_input": "2024-10-22T06:25:26.538136Z",
     "iopub.status.busy": "2024-10-22T06:25:26.537792Z",
     "iopub.status.idle": "2024-10-22T06:25:26.542035Z",
     "shell.execute_reply": "2024-10-22T06:25:26.541407Z"
    },
    "executionStartTime": 1689117391899,
    "executionStopTime": 1689117391915,
    "jupyter": {
     "outputs_hidden": false
    },
    "originalKey": "d039b709-67c6-475a-96ce-290f869e0f88",
    "papermill": {
     "duration": 0.009724,
     "end_time": "2024-10-22T06:25:26.543266",
     "exception": false,
     "start_time": "2024-10-22T06:25:26.533542",
     "status": "completed"
    },
    "requestMsgId": "3e23ed64-7d10-430b-b790-91a0c7cf72fe",
    "showInput": true,
    "tags": []
   },
   "outputs": [],
   "source": [
    "# Create optimization goals \n",
    "optimization_config = OptimizationConfig(\n",
    "    objective=Objective(\n",
    "        metric=AugBraninMetric(\n",
    "            name=\"objective\",\n",
    "            param_names=[f\"x{i}\" for i in range(aug_dim)],\n",
    "            noise_sd=None,  # Set noise_sd=None if you want to learn the noise, otherwise it defaults to 1e-6\n",
    "        ),\n",
    "        minimize=True,\n",
    "    )\n",
    ")\n",
    "\n",
    "# Experiment\n",
    "experiment = Experiment(\n",
    "    name=\"sebo_experiment\",\n",
    "    search_space=search_space,\n",
    "    optimization_config=optimization_config,\n",
    "    runner=SyntheticRunner(),\n",
    ")\n",
    "\n",
    "# target sparse point to regularize towards to. Here we set target sparse value being zero for all the parameters. \n",
    "target_point = torch.tensor([0 for _ in range(aug_dim)], **tkwargs)"
   ]
  },
  {
   "cell_type": "markdown",
   "id": "34c2debe",
   "metadata": {
    "customInput": null,
    "originalKey": "e57edb00-eafc-4d07-bdb9-e8cf073b4caa",
    "papermill": {
     "duration": 0.003464,
     "end_time": "2024-10-22T06:25:26.550203",
     "exception": false,
     "start_time": "2024-10-22T06:25:26.546739",
     "status": "completed"
    },
    "showInput": false,
    "tags": []
   },
   "source": [
    "## Run optimization loop"
   ]
  },
  {
   "cell_type": "code",
   "execution_count": 6,
   "id": "8bc7ddee",
   "metadata": {
    "customInput": null,
    "customOutput": null,
    "execution": {
     "iopub.execute_input": "2024-10-22T06:25:26.558191Z",
     "iopub.status.busy": "2024-10-22T06:25:26.557981Z",
     "iopub.status.idle": "2024-10-22T06:25:26.561916Z",
     "shell.execute_reply": "2024-10-22T06:25:26.561263Z"
    },
    "executionStartTime": 1689117395051,
    "executionStopTime": 1689117395069,
    "jupyter": {
     "outputs_hidden": false
    },
    "originalKey": "c4848148-bff5-44a7-9ad5-41e78ccb413c",
    "papermill": {
     "duration": 0.009546,
     "end_time": "2024-10-22T06:25:26.563246",
     "exception": false,
     "start_time": "2024-10-22T06:25:26.553700",
     "status": "completed"
    },
    "requestMsgId": "8aa87d22-bf89-471f-be9f-7c31f7b8bd62",
    "showInput": true,
    "tags": []
   },
   "outputs": [
    {
     "name": "stdout",
     "output_type": "stream",
     "text": [
      "Doing 30 evaluations\n"
     ]
    }
   ],
   "source": [
    "N_INIT = 10\n",
    "\n",
    "if SMOKE_TEST:\n",
    "    N_BATCHES = 1\n",
    "    BATCH_SIZE = 1\n",
    "    SURROGATE_CLASS = None  # Auto-pick SingleTaskGP\n",
    "else:\n",
    "    N_BATCHES = 4\n",
    "    BATCH_SIZE = 5\n",
    "    SURROGATE_CLASS = SaasFullyBayesianSingleTaskGP\n",
    "\n",
    "print(f\"Doing {N_INIT + N_BATCHES * BATCH_SIZE} evaluations\")"
   ]
  },
  {
   "cell_type": "code",
   "execution_count": 7,
   "id": "968ace6d",
   "metadata": {
    "customInput": null,
    "customOutput": null,
    "execution": {
     "iopub.execute_input": "2024-10-22T06:25:26.571497Z",
     "iopub.status.busy": "2024-10-22T06:25:26.571149Z",
     "iopub.status.idle": "2024-10-22T06:25:26.584450Z",
     "shell.execute_reply": "2024-10-22T06:25:26.583806Z"
    },
    "executionStartTime": 1689117396326,
    "executionStopTime": 1689117396376,
    "jupyter": {
     "outputs_hidden": false
    },
    "originalKey": "b260d85f-2797-44e3-840a-86587534b589",
    "papermill": {
     "duration": 0.018832,
     "end_time": "2024-10-22T06:25:26.585815",
     "exception": false,
     "start_time": "2024-10-22T06:25:26.566983",
     "status": "completed"
    },
    "requestMsgId": "2cc516e3-b16e-40ca-805f-dcd792c92fa6",
    "showInput": true,
    "tags": []
   },
   "outputs": [],
   "source": [
    "# Initial Sobol points\n",
    "sobol = Models.SOBOL(search_space=experiment.search_space)\n",
    "for _ in range(N_INIT):\n",
    "    experiment.new_trial(sobol.gen(1)).run()"
   ]
  },
  {
   "cell_type": "code",
   "execution_count": 8,
   "id": "04680acc",
   "metadata": {
    "customInput": null,
    "customOutput": null,
    "execution": {
     "iopub.execute_input": "2024-10-22T06:25:26.594653Z",
     "iopub.status.busy": "2024-10-22T06:25:26.594283Z",
     "iopub.status.idle": "2024-10-22T06:38:27.719895Z",
     "shell.execute_reply": "2024-10-22T06:38:27.719178Z"
    },
    "executionStartTime": 1689117396900,
    "executionStopTime": 1689124188959,
    "jupyter": {
     "outputs_hidden": false
    },
    "originalKey": "7c198035-add2-4717-be27-4fb67c4d1782",
    "papermill": {
     "duration": 781.135353,
     "end_time": "2024-10-22T06:38:27.725066",
     "exception": false,
     "start_time": "2024-10-22T06:25:26.589713",
     "status": "completed"
    },
    "requestMsgId": "d844fa20-0adf-4ba3-ace5-7253ba678db2",
    "showInput": true,
    "tags": []
   },
   "outputs": [
    {
     "name": "stdout",
     "output_type": "stream",
     "text": [
      "Iteration: 0, Best so far: 2.494\n"
     ]
    },
    {
     "name": "stdout",
     "output_type": "stream",
     "text": [
      "Iteration: 1, Best so far: 2.494\n"
     ]
    },
    {
     "name": "stdout",
     "output_type": "stream",
     "text": [
      "Iteration: 2, Best so far: 1.944\n"
     ]
    },
    {
     "name": "stdout",
     "output_type": "stream",
     "text": [
      "Iteration: 3, Best so far: 0.906\n"
     ]
    }
   ],
   "source": [
    "data = experiment.fetch_data()\n",
    "\n",
    "for i in range(N_BATCHES):\n",
    "\n",
    "    model = Models.BOTORCH_MODULAR(\n",
    "        experiment=experiment, \n",
    "        data=data,\n",
    "        surrogate=Surrogate(botorch_model_class=SURROGATE_CLASS),  # can use SAASGP (i.e. SaasFullyBayesianSingleTaskGP) for high-dim cases\n",
    "        search_space=experiment.search_space,\n",
    "        botorch_acqf_class=qNoisyExpectedHypervolumeImprovement,\n",
    "        acquisition_class=SEBOAcquisition,\n",
    "        acquisition_options={\n",
    "            \"penalty\": \"L0_norm\", # it can be L0_norm or L1_norm. \n",
    "            \"target_point\": target_point, \n",
    "            \"sparsity_threshold\": aug_dim,\n",
    "        },\n",
    "        torch_device=tkwargs['device'],\n",
    "    )\n",
    "\n",
    "    generator_run = model.gen(BATCH_SIZE)\n",
    "    trial = experiment.new_batch_trial(generator_run=generator_run)\n",
    "    trial.run()\n",
    "\n",
    "    new_data = trial.fetch_data(metrics=list(experiment.metrics.values()))\n",
    "    data = Data.from_multiple_data([data, new_data])\n",
    "    print(f\"Iteration: {i}, Best so far: {data.df['mean'].min():.3f}\")"
   ]
  },
  {
   "cell_type": "markdown",
   "id": "0bf3158b",
   "metadata": {
    "customInput": null,
    "originalKey": "7998635d-6750-4825-b93d-c7b61f74c3c5",
    "papermill": {
     "duration": 0.004024,
     "end_time": "2024-10-22T06:38:27.733051",
     "exception": false,
     "start_time": "2024-10-22T06:38:27.729027",
     "status": "completed"
    },
    "showInput": false,
    "tags": []
   },
   "source": [
    "## Plot sparisty vs objective \n",
    "\n",
    "Visualize the objective and sparsity trade-offs using SEBO. Each point represent designs along the Pareto frontier found by SEBO. The x-axis corresponds to the number of active parameters used, i.e.\n",
    "non-sparse parameters, and the y-axis corresponds the best identified objective values. Based on this, decision-makers balance both simplicity/interpretability of generated policies and optimization performance when deciding which configuration to use."
   ]
  },
  {
   "cell_type": "code",
   "execution_count": 9,
   "id": "9d376fea",
   "metadata": {
    "customInput": null,
    "customOutput": null,
    "execution": {
     "iopub.execute_input": "2024-10-22T06:38:27.741980Z",
     "iopub.status.busy": "2024-10-22T06:38:27.741450Z",
     "iopub.status.idle": "2024-10-22T06:38:27.746490Z",
     "shell.execute_reply": "2024-10-22T06:38:27.745949Z"
    },
    "executionStartTime": 1689124189044,
    "executionStopTime": 1689124189182,
    "jupyter": {
     "outputs_hidden": false
    },
    "originalKey": "416ccd12-51a1-4bfe-9e10-436cd88ec6be",
    "papermill": {
     "duration": 0.010919,
     "end_time": "2024-10-22T06:38:27.747770",
     "exception": false,
     "start_time": "2024-10-22T06:38:27.736851",
     "status": "completed"
    },
    "requestMsgId": "5143ae57-1d0d-4f9d-bc9d-9d151f3e9af0",
    "showInput": true,
    "tags": []
   },
   "outputs": [],
   "source": [
    "def nnz_exact(x, sparse_point):\n",
    "    return len(x) - (np.array(x) == np.array(sparse_point)).sum()\n",
    "\n",
    "    \n",
    "df = data.df\n",
    "df['L0_norm'] = df['arm_name'].apply(lambda d: nnz_exact(list(experiment.arms_by_name[d].parameters.values()), [0 for _ in range(aug_dim)]) )"
   ]
  },
  {
   "cell_type": "code",
   "execution_count": 10,
   "id": "bbbddbe5",
   "metadata": {
    "customInput": null,
    "customOutput": null,
    "execution": {
     "iopub.execute_input": "2024-10-22T06:38:27.756694Z",
     "iopub.status.busy": "2024-10-22T06:38:27.756274Z",
     "iopub.status.idle": "2024-10-22T06:38:27.765236Z",
     "shell.execute_reply": "2024-10-22T06:38:27.764598Z"
    },
    "executionStartTime": 1689124189219,
    "executionStopTime": 1689124189321,
    "jupyter": {
     "outputs_hidden": false
    },
    "originalKey": "97b96822-7d7f-4a5d-8458-01ff890d2fde",
    "papermill": {
     "duration": 0.014897,
     "end_time": "2024-10-22T06:38:27.766599",
     "exception": false,
     "start_time": "2024-10-22T06:38:27.751702",
     "status": "completed"
    },
    "requestMsgId": "34abdf8d-6f0c-48a1-8700-8e2c3075a085",
    "showInput": true,
    "tags": []
   },
   "outputs": [
    {
     "data": {
      "text/plain": [
       "{1: 5.1236390269286165,\n",
       " 2: 1.3284950898239707,\n",
       " 3: 1.3284950898239707,\n",
       " 4: 0.9057780452304698,\n",
       " 5: 0.9057780452304698,\n",
       " 6: 0.9057780452304698,\n",
       " 7: 0.9057780452304698,\n",
       " 8: 0.9057780452304698}"
      ]
     },
     "execution_count": 10,
     "metadata": {},
     "output_type": "execute_result"
    }
   ],
   "source": [
    "result_by_sparsity = {l: df[df.L0_norm <= l]['mean'].min() for l in range(1, aug_dim+1)}\n",
    "result_by_sparsity"
   ]
  },
  {
   "cell_type": "code",
   "execution_count": 11,
   "id": "bcea7d4e",
   "metadata": {
    "customInput": null,
    "customOutput": null,
    "execution": {
     "iopub.execute_input": "2024-10-22T06:38:27.775936Z",
     "iopub.status.busy": "2024-10-22T06:38:27.775443Z",
     "iopub.status.idle": "2024-10-22T06:38:27.921411Z",
     "shell.execute_reply": "2024-10-22T06:38:27.920706Z"
    },
    "executionStartTime": 1689134836494,
    "executionStopTime": 1689134837813,
    "jupyter": {
     "outputs_hidden": false
    },
    "originalKey": "7193e2b0-e192-439a-b0d0-08a2029f64ca",
    "papermill": {
     "duration": 0.151939,
     "end_time": "2024-10-22T06:38:27.922735",
     "exception": false,
     "start_time": "2024-10-22T06:38:27.770796",
     "status": "completed"
    },
    "requestMsgId": "f095d820-55e0-4201-8e3a-77f17b2155f1",
    "showInput": true,
    "tags": []
   },
   "outputs": [
    {
     "data": {
      "image/png": "[encoded data removed]",
      "text/plain": [
       "<Figure size 800x600 with 1 Axes>"
      ]
     },
     "metadata": {},
     "output_type": "display_data"
    }
   ],
   "source": [
    "fig, ax = plt.subplots(figsize=(8, 6))\n",
    "ax.plot(list(result_by_sparsity.keys()), list(result_by_sparsity.values()), '.b-', label=\"sebo\", markersize=10)\n",
    "ax.grid(True)\n",
    "ax.set_title(f\"Branin, D={aug_dim}\", fontsize=20)\n",
    "ax.set_xlabel(\"Number of active parameters\", fontsize=20)\n",
    "ax.set_ylabel(\"Best value found\", fontsize=20)\n",
    "# ax.legend(fontsize=18)\n",
    "plt.show()"
   ]
  },
  {
   "cell_type": "markdown",
   "id": "6da1f9aa",
   "metadata": {
    "customInput": null,
    "originalKey": "1ba68dc9-d60b-4b39-8e58-ea9bdc06b44c",
    "papermill": {
     "duration": 0.004414,
     "end_time": "2024-10-22T06:38:27.932059",
     "exception": false,
     "start_time": "2024-10-22T06:38:27.927645",
     "status": "completed"
    },
    "showInput": false,
    "tags": []
   },
   "source": [
    "# Demo of Using GenerationStrategy and Service API \n",
    "\n",
    "Please check [Service API tutorial](https://ax.dev/tutorials/gpei_hartmann_service.html) for more detailed information. "
   ]
  },
  {
   "cell_type": "markdown",
   "id": "83f9e235",
   "metadata": {
    "customInput": null,
    "originalKey": "45e5586c-55eb-4908-aa73-bca4ee883b56",
    "papermill": {
     "duration": 0.004353,
     "end_time": "2024-10-22T06:38:27.940870",
     "exception": false,
     "start_time": "2024-10-22T06:38:27.936517",
     "status": "completed"
    },
    "showInput": false,
    "tags": []
   },
   "source": [
    "## Create `GenerationStrategy`"
   ]
  },
  {
   "cell_type": "code",
   "execution_count": 12,
   "id": "f2c8f36b",
   "metadata": {
    "customInput": null,
    "execution": {
     "iopub.execute_input": "2024-10-22T06:38:27.952300Z",
     "iopub.status.busy": "2024-10-22T06:38:27.952046Z",
     "iopub.status.idle": "2024-10-22T06:38:27.956575Z",
     "shell.execute_reply": "2024-10-22T06:38:27.955968Z"
    },
    "executionStartTime": 1689124192972,
    "executionStopTime": 1689124192975,
    "jupyter": {
     "outputs_hidden": false
    },
    "originalKey": "7c0bfe37-8f1f-4999-8833-42ffb2569c04",
    "papermill": {
     "duration": 0.01267,
     "end_time": "2024-10-22T06:38:27.957901",
     "exception": false,
     "start_time": "2024-10-22T06:38:27.945231",
     "status": "completed"
    },
    "requestMsgId": "bbd9058a-709e-4262-abe1-720d37e8786f",
    "showInput": true,
    "tags": []
   },
   "outputs": [],
   "source": [
    "gs = GenerationStrategy(\n",
    "    name=\"SEBO_L0\",\n",
    "    steps=[\n",
    "        GenerationStep(  # Initialization step\n",
    "            model=Models.SOBOL,     \n",
    "            num_trials=N_INIT,\n",
    "        ),\n",
    "        GenerationStep(  # BayesOpt step\n",
    "            model=Models.BOTORCH_MODULAR,\n",
    "            # No limit on how many generator runs will be produced\n",
    "            num_trials=-1,\n",
    "            model_kwargs={  # Kwargs to pass to `BoTorchModel.__init__`\n",
    "                \"surrogate\": Surrogate(botorch_model_class=SURROGATE_CLASS),\n",
    "                \"acquisition_class\": SEBOAcquisition,\n",
    "                \"botorch_acqf_class\": qNoisyExpectedHypervolumeImprovement,\n",
    "                \"acquisition_options\": {\n",
    "                    \"penalty\": \"L0_norm\", # it can be L0_norm or L1_norm.\n",
    "                    \"target_point\": target_point, \n",
    "                    \"sparsity_threshold\": aug_dim,\n",
    "                },\n",
    "            },\n",
    "        )\n",
    "    ]\n",
    ")"
   ]
  },
  {
   "cell_type": "markdown",
   "id": "ded27f65",
   "metadata": {
    "customInput": null,
    "originalKey": "e4911bc6-32cb-42a5-908f-57f3f04e58e5",
    "papermill": {
     "duration": 0.004406,
     "end_time": "2024-10-22T06:38:27.967032",
     "exception": false,
     "start_time": "2024-10-22T06:38:27.962626",
     "status": "completed"
    },
    "showInput": false,
    "tags": []
   },
   "source": [
    "## Initialize client and set up experiment"
   ]
  },
  {
   "cell_type": "code",
   "execution_count": 13,
   "id": "f43075b9",
   "metadata": {
    "customInput": null,
    "execution": {
     "iopub.execute_input": "2024-10-22T06:38:27.976943Z",
     "iopub.status.busy": "2024-10-22T06:38:27.976571Z",
     "iopub.status.idle": "2024-10-22T06:38:27.982850Z",
     "shell.execute_reply": "2024-10-22T06:38:27.982321Z"
    },
    "executionStartTime": 1689124192979,
    "executionStopTime": 1689124192984,
    "jupyter": {
     "outputs_hidden": false
    },
    "originalKey": "47938102-0613-4b37-acb2-9f1f5f3fe6b1",
    "papermill": {
     "duration": 0.012745,
     "end_time": "2024-10-22T06:38:27.984208",
     "exception": false,
     "start_time": "2024-10-22T06:38:27.971463",
     "status": "completed"
    },
    "requestMsgId": "38b4b17c-6aae-43b8-aa58-2df045f522fe",
    "showInput": true,
    "tags": []
   },
   "outputs": [
    {
     "name": "stderr",
     "output_type": "stream",
     "text": [
      "[INFO 10-22 06:38:27] ax.service.ax_client: Starting optimization with verbose logging. To disable logging, set the `verbose_logging` argument to `False`. Note that float values in the logs are rounded to 6 decimal points.\n"
     ]
    },
    {
     "name": "stderr",
     "output_type": "stream",
     "text": [
      "[INFO 10-22 06:38:27] ax.service.utils.instantiation: Created search space: SearchSpace(parameters=[RangeParameter(name='x0', parameter_type=FLOAT, range=[0.0, 1.0]), RangeParameter(name='x1', parameter_type=FLOAT, range=[0.0, 1.0]), RangeParameter(name='x2', parameter_type=FLOAT, range=[0.0, 1.0]), RangeParameter(name='x3', parameter_type=FLOAT, range=[0.0, 1.0]), RangeParameter(name='x4', parameter_type=FLOAT, range=[0.0, 1.0]), RangeParameter(name='x5', parameter_type=FLOAT, range=[0.0, 1.0]), RangeParameter(name='x6', parameter_type=FLOAT, range=[0.0, 1.0]), RangeParameter(name='x7', parameter_type=FLOAT, range=[0.0, 1.0])], parameter_constraints=[]).\n"
     ]
    }
   ],
   "source": [
    "ax_client = AxClient(generation_strategy=gs)\n",
    "\n",
    "experiment_parameters = [\n",
    "    {\n",
    "        \"name\": f\"x{i}\",\n",
    "        \"type\": \"range\",\n",
    "        \"bounds\": [0, 1],\n",
    "        \"value_type\": \"float\",\n",
    "        \"log_scale\": False,\n",
    "    }\n",
    "    for i in range(aug_dim)\n",
    "]\n",
    "\n",
    "objective_metrics = {\n",
    "    \"objective\": ObjectiveProperties(minimize=False, threshold=-10),\n",
    "}\n",
    "\n",
    "ax_client.create_experiment(\n",
    "    name=\"branin_augment_sebo_experiment\",\n",
    "    parameters=experiment_parameters,\n",
    "    objectives=objective_metrics,\n",
    ")"
   ]
  },
  {
   "cell_type": "markdown",
   "id": "db0dfbc0",
   "metadata": {
    "customInput": null,
    "originalKey": "6a7942e4-9727-43d9-8d8d-c327d38c2373",
    "papermill": {
     "duration": 0.004531,
     "end_time": "2024-10-22T06:38:27.993435",
     "exception": false,
     "start_time": "2024-10-22T06:38:27.988904",
     "status": "completed"
    },
    "showInput": false,
    "tags": []
   },
   "source": [
    "## Define evaluation function "
   ]
  },
  {
   "cell_type": "code",
   "execution_count": 14,
   "id": "33f70fcb",
   "metadata": {
    "customInput": null,
    "execution": {
     "iopub.execute_input": "2024-10-22T06:38:28.003718Z",
     "iopub.status.busy": "2024-10-22T06:38:28.003283Z",
     "iopub.status.idle": "2024-10-22T06:38:28.007167Z",
     "shell.execute_reply": "2024-10-22T06:38:28.006569Z"
    },
    "executionStartTime": 1689124192990,
    "executionStopTime": 1689124192992,
    "jupyter": {
     "outputs_hidden": false
    },
    "originalKey": "4e2994ff-36ac-4d48-a789-3d0398e1e856",
    "papermill": {
     "duration": 0.010509,
     "end_time": "2024-10-22T06:38:28.008435",
     "exception": false,
     "start_time": "2024-10-22T06:38:27.997926",
     "status": "completed"
    },
    "requestMsgId": "8f74a775-a8ce-462d-993c-5c9291c748b9",
    "showInput": true,
    "tags": []
   },
   "outputs": [],
   "source": [
    "def evaluation(parameters):\n",
    "    # put parameters into 1-D array\n",
    "    x = [parameters.get(param[\"name\"]) for param in experiment_parameters]\n",
    "    res = branin_augment(x_vec=x, augment_dim=aug_dim)\n",
    "    eval_res = {\n",
    "        # flip the sign to maximize\n",
    "        \"objective\": (res * -1, 0.0),\n",
    "    }\n",
    "    return eval_res"
   ]
  },
  {
   "cell_type": "markdown",
   "id": "6c37edae",
   "metadata": {
    "customInput": null,
    "originalKey": "4597531b-7ac8-4dd0-94c4-836672e0f4c4",
    "papermill": {
     "duration": 0.004541,
     "end_time": "2024-10-22T06:38:28.017723",
     "exception": false,
     "start_time": "2024-10-22T06:38:28.013182",
     "status": "completed"
    },
    "showInput": false,
    "tags": []
   },
   "source": [
    "## Run optimization loop\n",
    "\n",
    "Running only 1 BO trial for demonstration. "
   ]
  },
  {
   "cell_type": "code",
   "execution_count": 15,
   "id": "e21dc291",
   "metadata": {
    "customInput": null,
    "execution": {
     "iopub.execute_input": "2024-10-22T06:38:28.028265Z",
     "iopub.status.busy": "2024-10-22T06:38:28.027797Z",
     "iopub.status.idle": "2024-10-22T06:39:10.968767Z",
     "shell.execute_reply": "2024-10-22T06:39:10.968102Z"
    },
    "executionStartTime": 1689124193044,
    "executionStopTime": 1689130398208,
    "jupyter": {
     "outputs_hidden": false
    },
    "originalKey": "bc7accb2-48a2-4c88-a932-7c79ec81075a",
    "papermill": {
     "duration": 42.94988,
     "end_time": "2024-10-22T06:39:10.972155",
     "exception": false,
     "start_time": "2024-10-22T06:38:28.022275",
     "status": "completed"
    },
    "requestMsgId": "f054e5b1-12eb-459b-a508-6944baf82dfb",
    "showInput": true,
    "tags": []
   },
   "outputs": [
    {
     "name": "stderr",
     "output_type": "stream",
     "text": [
      "[INFO 10-22 06:38:28] ax.service.ax_client: Generated new trial 0 with parameters {'x0': 0.824078, 'x1': 0.196242, 'x2': 0.578363, 'x3': 0.608712, 'x4': 0.386561, 'x5': 0.810484, 'x6': 0.867805, 'x7': 0.913359} using model Sobol.\n"
     ]
    },
    {
     "name": "stderr",
     "output_type": "stream",
     "text": [
      "[INFO 10-22 06:38:28] ax.service.ax_client: Completed trial 0 with data: {'objective': (-17.295727, 0.0)}.\n"
     ]
    },
    {
     "name": "stderr",
     "output_type": "stream",
     "text": [
      "[INFO 10-22 06:38:28] ax.service.ax_client: Generated new trial 1 with parameters {'x0': 0.282705, 'x1': 0.716218, 'x2': 0.26271, 'x3': 0.311004, 'x4': 0.603807, 'x5': 0.460525, 'x6': 0.321924, 'x7': 0.326359} using model Sobol.\n"
     ]
    },
    {
     "name": "stderr",
     "output_type": "stream",
     "text": [
      "[INFO 10-22 06:38:28] ax.service.ax_client: Completed trial 1 with data: {'objective': (-28.936086, 0.0)}.\n"
     ]
    },
    {
     "name": "stderr",
     "output_type": "stream",
     "text": [
      "[INFO 10-22 06:38:28] ax.service.ax_client: Generated new trial 2 with parameters {'x0': 0.08786, 'x1': 0.363983, 'x2': 0.96312, 'x3': 0.999584, 'x4': 0.828938, 'x5': 0.198402, 'x6': 0.596368, 'x7': 0.179742} using model Sobol.\n"
     ]
    },
    {
     "name": "stderr",
     "output_type": "stream",
     "text": [
      "[INFO 10-22 06:38:28] ax.service.ax_client: Completed trial 2 with data: {'objective': (-68.220912, 0.0)}.\n"
     ]
    },
    {
     "name": "stderr",
     "output_type": "stream",
     "text": [
      "[INFO 10-22 06:38:28] ax.service.ax_client: Generated new trial 3 with parameters {'x0': 0.550165, 'x1': 0.844864, 'x2': 0.131841, 'x3': 0.17062, 'x4': 0.173157, 'x5': 0.532553, 'x6': 0.0817, 'x7': 0.579561} using model Sobol.\n"
     ]
    },
    {
     "name": "stderr",
     "output_type": "stream",
     "text": [
      "[INFO 10-22 06:38:28] ax.service.ax_client: Completed trial 3 with data: {'objective': (-110.346684, 0.0)}.\n"
     ]
    },
    {
     "name": "stderr",
     "output_type": "stream",
     "text": [
      "[INFO 10-22 06:38:28] ax.service.ax_client: Generated new trial 4 with parameters {'x0': 0.687252, 'x1': 0.464564, 'x2': 0.417293, 'x3': 0.121526, 'x4': 0.000339, 'x5': 0.996712, 'x6': 0.737613, 'x7': 0.045842} using model Sobol.\n"
     ]
    },
    {
     "name": "stderr",
     "output_type": "stream",
     "text": [
      "[INFO 10-22 06:38:28] ax.service.ax_client: Completed trial 4 with data: {'objective': (-48.764895, 0.0)}.\n"
     ]
    },
    {
     "name": "stderr",
     "output_type": "stream",
     "text": [
      "[INFO 10-22 06:38:28] ax.service.ax_client: Generated new trial 5 with parameters {'x0': 0.208104, 'x1': 0.951345, 'x2': 0.740676, 'x3': 0.794269, 'x4': 0.970467, 'x5': 0.272332, 'x6': 0.189787, 'x7': 0.694851} using model Sobol.\n"
     ]
    },
    {
     "name": "stderr",
     "output_type": "stream",
     "text": [
      "[INFO 10-22 06:38:28] ax.service.ax_client: Completed trial 5 with data: {'objective': (-30.370342, 0.0)}.\n"
     ]
    },
    {
     "name": "stderr",
     "output_type": "stream",
     "text": [
      "[INFO 10-22 06:38:28] ax.service.ax_client: Generated new trial 6 with parameters {'x0': 0.419541, 'x1': 0.101553, 'x2': 0.032518, 'x3': 0.481147, 'x4': 0.714215, 'x5': 0.010148, 'x6': 0.977903, 'x7': 0.798554} using model Sobol.\n"
     ]
    },
    {
     "name": "stderr",
     "output_type": "stream",
     "text": [
      "[INFO 10-22 06:38:28] ax.service.ax_client: Completed trial 6 with data: {'objective': (-19.573603, 0.0)}.\n"
     ]
    },
    {
     "name": "stderr",
     "output_type": "stream",
     "text": [
      "[INFO 10-22 06:38:28] ax.service.ax_client: Generated new trial 7 with parameters {'x0': 0.944559, 'x1': 0.611719, 'x2': 0.871525, 'x3': 0.685135, 'x4': 0.307379, 'x5': 0.718842, 'x6': 0.461274, 'x7': 0.461724} using model Sobol.\n"
     ]
    },
    {
     "name": "stderr",
     "output_type": "stream",
     "text": [
      "[INFO 10-22 06:38:28] ax.service.ax_client: Completed trial 7 with data: {'objective': (-48.44015, 0.0)}.\n"
     ]
    },
    {
     "name": "stderr",
     "output_type": "stream",
     "text": [
      "[INFO 10-22 06:38:28] ax.service.ax_client: Generated new trial 8 with parameters {'x0': 0.904023, 'x1': 0.287567, 'x2': 0.114658, 'x3': 0.835928, 'x4': 0.518167, 'x5': 0.57497, 'x6': 0.671952, 'x7': 0.108307} using model Sobol.\n"
     ]
    },
    {
     "name": "stderr",
     "output_type": "stream",
     "text": [
      "[INFO 10-22 06:38:28] ax.service.ax_client: Completed trial 8 with data: {'objective': (-9.874012, 0.0)}.\n"
     ]
    },
    {
     "name": "stderr",
     "output_type": "stream",
     "text": [
      "[INFO 10-22 06:38:28] ax.service.ax_client: Generated new trial 9 with parameters {'x0': 0.491326, 'x1': 0.800706, 'x2': 0.78939, 'x3': 0.006686, 'x4': 0.487307, 'x5': 0.162814, 'x6': 0.126051, 'x7': 0.632441} using model Sobol.\n"
     ]
    },
    {
     "name": "stderr",
     "output_type": "stream",
     "text": [
      "[INFO 10-22 06:38:28] ax.service.ax_client: Completed trial 9 with data: {'objective': (-85.144148, 0.0)}.\n"
     ]
    },
    {
     "name": "stderr",
     "output_type": "stream",
     "text": [
      "[INFO 10-22 06:39:10] ax.service.ax_client: Generated new trial 10 with parameters {'x0': 0.0, 'x1': 0.0, 'x2': 0.0, 'x3': 0.0, 'x4': 1.0, 'x5': 1.0, 'x6': 0.0, 'x7': 0.0} using model BoTorch.\n"
     ]
    },
    {
     "name": "stderr",
     "output_type": "stream",
     "text": [
      "[INFO 10-22 06:39:10] ax.service.ax_client: Completed trial 10 with data: {'objective': (-308.129096, 0.0)}.\n"
     ]
    }
   ],
   "source": [
    "for _ in range(N_INIT + 1):    \n",
    "    parameters, trial_index = ax_client.get_next_trial()\n",
    "    res = evaluation(parameters)\n",
    "    ax_client.complete_trial(trial_index=trial_index, raw_data=res)"
   ]
  }
 ],
 "metadata": {
  "fileHeader": "",
  "kernelspec": {
   "display_name": "Python 3 (ipykernel)",
   "language": "python",
   "name": "python3"
  },
  "language_info": {
   "codemirror_mode": {
    "name": "ipython",
    "version": 3
   },
   "file_extension": ".py",
   "mimetype": "text/x-python",
   "name": "python",
   "nbconvert_exporter": "python",
   "pygments_lexer": "ipython3",
   "version": "3.10.15"
  },
  "papermill": {
   "default_parameters": {},
   "duration": 830.186515,
   "end_time": "2024-10-22T06:39:13.174229",
   "environment_variables": {},
   "exception": null,
   "input_path": "/tmp/tmp.zq878dbpnh/Ax-main/tutorials/sebo.ipynb",
   "output_path": "/tmp/tmp.zq878dbpnh/Ax-main/tutorials/sebo.ipynb",
   "parameters": {},
   "start_time": "2024-10-22T06:25:22.987714",
   "version": "2.6.0"
  }
 },
 "nbformat": 4,
 "nbformat_minor": 5
}
